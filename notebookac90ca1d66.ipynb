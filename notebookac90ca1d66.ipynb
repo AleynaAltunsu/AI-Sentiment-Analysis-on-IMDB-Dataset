{
 "cells": [
  {
   "cell_type": "code",
   "execution_count": 1,
   "id": "87924bb0",
   "metadata": {
    "execution": {
     "iopub.execute_input": "2024-09-11T16:47:52.406975Z",
     "iopub.status.busy": "2024-09-11T16:47:52.406422Z",
     "iopub.status.idle": "2024-09-11T16:48:11.881604Z",
     "shell.execute_reply": "2024-09-11T16:48:11.880378Z"
    },
    "papermill": {
     "duration": 19.486254,
     "end_time": "2024-09-11T16:48:11.884266",
     "exception": false,
     "start_time": "2024-09-11T16:47:52.398012",
     "status": "completed"
    },
    "tags": []
   },
   "outputs": [
    {
     "data": {
      "text/html": [
       "<div>\n",
       "<style scoped>\n",
       "    .dataframe tbody tr th:only-of-type {\n",
       "        vertical-align: middle;\n",
       "    }\n",
       "\n",
       "    .dataframe tbody tr th {\n",
       "        vertical-align: top;\n",
       "    }\n",
       "\n",
       "    .dataframe thead th {\n",
       "        text-align: right;\n",
       "    }\n",
       "</style>\n",
       "<table border=\"1\" class=\"dataframe\">\n",
       "  <thead>\n",
       "    <tr style=\"text-align: right;\">\n",
       "      <th></th>\n",
       "      <th>reviewerID</th>\n",
       "      <th>asin</th>\n",
       "      <th>reviewerName</th>\n",
       "      <th>helpful</th>\n",
       "      <th>reviewText</th>\n",
       "      <th>overall</th>\n",
       "      <th>summary</th>\n",
       "      <th>unixReviewTime</th>\n",
       "      <th>reviewTime</th>\n",
       "    </tr>\n",
       "  </thead>\n",
       "  <tbody>\n",
       "    <tr>\n",
       "      <th>0</th>\n",
       "      <td>A30TL5EWN6DFXT</td>\n",
       "      <td>120401325X</td>\n",
       "      <td>christina</td>\n",
       "      <td>[0, 0]</td>\n",
       "      <td>They look good and stick good! I just don't li...</td>\n",
       "      <td>4</td>\n",
       "      <td>Looks Good</td>\n",
       "      <td>1400630400</td>\n",
       "      <td>05 21, 2014</td>\n",
       "    </tr>\n",
       "    <tr>\n",
       "      <th>1</th>\n",
       "      <td>ASY55RVNIL0UD</td>\n",
       "      <td>120401325X</td>\n",
       "      <td>emily l.</td>\n",
       "      <td>[0, 0]</td>\n",
       "      <td>These stickers work like the review says they ...</td>\n",
       "      <td>5</td>\n",
       "      <td>Really great product.</td>\n",
       "      <td>1389657600</td>\n",
       "      <td>01 14, 2014</td>\n",
       "    </tr>\n",
       "    <tr>\n",
       "      <th>2</th>\n",
       "      <td>A2TMXE2AFO7ONB</td>\n",
       "      <td>120401325X</td>\n",
       "      <td>Erica</td>\n",
       "      <td>[0, 0]</td>\n",
       "      <td>These are awesome and make my phone look so st...</td>\n",
       "      <td>5</td>\n",
       "      <td>LOVE LOVE LOVE</td>\n",
       "      <td>1403740800</td>\n",
       "      <td>06 26, 2014</td>\n",
       "    </tr>\n",
       "    <tr>\n",
       "      <th>3</th>\n",
       "      <td>AWJ0WZQYMYFQ4</td>\n",
       "      <td>120401325X</td>\n",
       "      <td>JM</td>\n",
       "      <td>[4, 4]</td>\n",
       "      <td>Item arrived in great time and was in perfect ...</td>\n",
       "      <td>4</td>\n",
       "      <td>Cute!</td>\n",
       "      <td>1382313600</td>\n",
       "      <td>10 21, 2013</td>\n",
       "    </tr>\n",
       "    <tr>\n",
       "      <th>4</th>\n",
       "      <td>ATX7CZYFXI1KW</td>\n",
       "      <td>120401325X</td>\n",
       "      <td>patrice m rogoza</td>\n",
       "      <td>[2, 3]</td>\n",
       "      <td>awesome! stays on, and looks great. can be use...</td>\n",
       "      <td>5</td>\n",
       "      <td>leopard home button sticker for iphone 4s</td>\n",
       "      <td>1359849600</td>\n",
       "      <td>02 3, 2013</td>\n",
       "    </tr>\n",
       "  </tbody>\n",
       "</table>\n",
       "</div>"
      ],
      "text/plain": [
       "       reviewerID        asin      reviewerName helpful  \\\n",
       "0  A30TL5EWN6DFXT  120401325X         christina  [0, 0]   \n",
       "1   ASY55RVNIL0UD  120401325X          emily l.  [0, 0]   \n",
       "2  A2TMXE2AFO7ONB  120401325X             Erica  [0, 0]   \n",
       "3   AWJ0WZQYMYFQ4  120401325X                JM  [4, 4]   \n",
       "4   ATX7CZYFXI1KW  120401325X  patrice m rogoza  [2, 3]   \n",
       "\n",
       "                                          reviewText  overall  \\\n",
       "0  They look good and stick good! I just don't li...        4   \n",
       "1  These stickers work like the review says they ...        5   \n",
       "2  These are awesome and make my phone look so st...        5   \n",
       "3  Item arrived in great time and was in perfect ...        4   \n",
       "4  awesome! stays on, and looks great. can be use...        5   \n",
       "\n",
       "                                     summary  unixReviewTime   reviewTime  \n",
       "0                                 Looks Good      1400630400  05 21, 2014  \n",
       "1                      Really great product.      1389657600  01 14, 2014  \n",
       "2                             LOVE LOVE LOVE      1403740800  06 26, 2014  \n",
       "3                                      Cute!      1382313600  10 21, 2013  \n",
       "4  leopard home button sticker for iphone 4s      1359849600   02 3, 2013  "
      ]
     },
     "execution_count": 1,
     "metadata": {},
     "output_type": "execute_result"
    }
   ],
   "source": [
    "import gensim\n",
    "import pandas as pd\n",
    "\n",
    "df = pd.read_json(\"/kaggle/input/cell-phones-andaccessories-5/Cell_Phones_and_Accessories_5.json\", lines=True)\n",
    "df.head()\n"
   ]
  },
  {
   "cell_type": "code",
   "execution_count": 2,
   "id": "da860b6d",
   "metadata": {
    "execution": {
     "iopub.execute_input": "2024-09-11T16:48:11.898601Z",
     "iopub.status.busy": "2024-09-11T16:48:11.898128Z",
     "iopub.status.idle": "2024-09-11T16:48:11.906220Z",
     "shell.execute_reply": "2024-09-11T16:48:11.905029Z"
    },
    "papermill": {
     "duration": 0.018379,
     "end_time": "2024-09-11T16:48:11.909006",
     "exception": false,
     "start_time": "2024-09-11T16:48:11.890627",
     "status": "completed"
    },
    "tags": []
   },
   "outputs": [
    {
     "data": {
      "text/plain": [
       "(194439, 9)"
      ]
     },
     "execution_count": 2,
     "metadata": {},
     "output_type": "execute_result"
    }
   ],
   "source": [
    "df.shape"
   ]
  },
  {
   "cell_type": "code",
   "execution_count": 3,
   "id": "6bf20c0b",
   "metadata": {
    "execution": {
     "iopub.execute_input": "2024-09-11T16:48:11.923655Z",
     "iopub.status.busy": "2024-09-11T16:48:11.923175Z",
     "iopub.status.idle": "2024-09-11T16:48:11.930748Z",
     "shell.execute_reply": "2024-09-11T16:48:11.929607Z"
    },
    "papermill": {
     "duration": 0.017781,
     "end_time": "2024-09-11T16:48:11.933207",
     "exception": false,
     "start_time": "2024-09-11T16:48:11.915426",
     "status": "completed"
    },
    "tags": []
   },
   "outputs": [
    {
     "data": {
      "text/plain": [
       "\"They look good and stick good! I just don't like the rounded shape because I was always bumping it and Siri kept popping up and it was irritating. I just won't buy a product like this again\""
      ]
     },
     "execution_count": 3,
     "metadata": {},
     "output_type": "execute_result"
    }
   ],
   "source": [
    "df.reviewText[0]"
   ]
  },
  {
   "cell_type": "code",
   "execution_count": 4,
   "id": "b7f40c07",
   "metadata": {
    "execution": {
     "iopub.execute_input": "2024-09-11T16:48:11.948455Z",
     "iopub.status.busy": "2024-09-11T16:48:11.947622Z",
     "iopub.status.idle": "2024-09-11T16:48:59.005622Z",
     "shell.execute_reply": "2024-09-11T16:48:59.004162Z"
    },
    "papermill": {
     "duration": 47.068987,
     "end_time": "2024-09-11T16:48:59.008730",
     "exception": false,
     "start_time": "2024-09-11T16:48:11.939743",
     "status": "completed"
    },
    "tags": []
   },
   "outputs": [],
   "source": [
    "review_text = df.reviewText.apply(gensim.utils.simple_preprocess)"
   ]
  },
  {
   "cell_type": "code",
   "execution_count": 5,
   "id": "d37a371f",
   "metadata": {
    "execution": {
     "iopub.execute_input": "2024-09-11T16:48:59.023994Z",
     "iopub.status.busy": "2024-09-11T16:48:59.023521Z",
     "iopub.status.idle": "2024-09-11T16:48:59.040567Z",
     "shell.execute_reply": "2024-09-11T16:48:59.039234Z"
    },
    "papermill": {
     "duration": 0.027687,
     "end_time": "2024-09-11T16:48:59.043229",
     "exception": false,
     "start_time": "2024-09-11T16:48:59.015542",
     "status": "completed"
    },
    "tags": []
   },
   "outputs": [
    {
     "data": {
      "text/plain": [
       "0         [they, look, good, and, stick, good, just, don...\n",
       "1         [these, stickers, work, like, the, review, say...\n",
       "2         [these, are, awesome, and, make, my, phone, lo...\n",
       "3         [item, arrived, in, great, time, and, was, in,...\n",
       "4         [awesome, stays, on, and, looks, great, can, b...\n",
       "                                ...                        \n",
       "194434    [works, great, just, like, my, original, one, ...\n",
       "194435    [great, product, great, packaging, high, quali...\n",
       "194436    [this, is, great, cable, just, as, good, as, t...\n",
       "194437    [really, like, it, becasue, it, works, well, w...\n",
       "194438    [product, as, described, have, wasted, lot, of...\n",
       "Name: reviewText, Length: 194439, dtype: object"
      ]
     },
     "execution_count": 5,
     "metadata": {},
     "output_type": "execute_result"
    }
   ],
   "source": [
    "review_text"
   ]
  },
  {
   "cell_type": "code",
   "execution_count": 6,
   "id": "f93fcd15",
   "metadata": {
    "execution": {
     "iopub.execute_input": "2024-09-11T16:48:59.058710Z",
     "iopub.status.busy": "2024-09-11T16:48:59.058246Z",
     "iopub.status.idle": "2024-09-11T16:48:59.066396Z",
     "shell.execute_reply": "2024-09-11T16:48:59.065352Z"
    },
    "papermill": {
     "duration": 0.019191,
     "end_time": "2024-09-11T16:48:59.069168",
     "exception": false,
     "start_time": "2024-09-11T16:48:59.049977",
     "status": "completed"
    },
    "tags": []
   },
   "outputs": [
    {
     "data": {
      "text/plain": [
       "['they',\n",
       " 'look',\n",
       " 'good',\n",
       " 'and',\n",
       " 'stick',\n",
       " 'good',\n",
       " 'just',\n",
       " 'don',\n",
       " 'like',\n",
       " 'the',\n",
       " 'rounded',\n",
       " 'shape',\n",
       " 'because',\n",
       " 'was',\n",
       " 'always',\n",
       " 'bumping',\n",
       " 'it',\n",
       " 'and',\n",
       " 'siri',\n",
       " 'kept',\n",
       " 'popping',\n",
       " 'up',\n",
       " 'and',\n",
       " 'it',\n",
       " 'was',\n",
       " 'irritating',\n",
       " 'just',\n",
       " 'won',\n",
       " 'buy',\n",
       " 'product',\n",
       " 'like',\n",
       " 'this',\n",
       " 'again']"
      ]
     },
     "execution_count": 6,
     "metadata": {},
     "output_type": "execute_result"
    }
   ],
   "source": [
    "review_text.loc[0]"
   ]
  },
  {
   "cell_type": "code",
   "execution_count": 7,
   "id": "fd316fa5",
   "metadata": {
    "execution": {
     "iopub.execute_input": "2024-09-11T16:48:59.084846Z",
     "iopub.status.busy": "2024-09-11T16:48:59.084414Z",
     "iopub.status.idle": "2024-09-11T16:48:59.092256Z",
     "shell.execute_reply": "2024-09-11T16:48:59.091126Z"
    },
    "papermill": {
     "duration": 0.018638,
     "end_time": "2024-09-11T16:48:59.094744",
     "exception": false,
     "start_time": "2024-09-11T16:48:59.076106",
     "status": "completed"
    },
    "tags": []
   },
   "outputs": [
    {
     "data": {
      "text/plain": [
       "\"They look good and stick good! I just don't like the rounded shape because I was always bumping it and Siri kept popping up and it was irritating. I just won't buy a product like this again\""
      ]
     },
     "execution_count": 7,
     "metadata": {},
     "output_type": "execute_result"
    }
   ],
   "source": [
    "df.reviewText.loc[0]"
   ]
  },
  {
   "cell_type": "code",
   "execution_count": 8,
   "id": "33f4ab5f",
   "metadata": {
    "execution": {
     "iopub.execute_input": "2024-09-11T16:48:59.110698Z",
     "iopub.status.busy": "2024-09-11T16:48:59.110229Z",
     "iopub.status.idle": "2024-09-11T16:48:59.116802Z",
     "shell.execute_reply": "2024-09-11T16:48:59.115415Z"
    },
    "papermill": {
     "duration": 0.017487,
     "end_time": "2024-09-11T16:48:59.119366",
     "exception": false,
     "start_time": "2024-09-11T16:48:59.101879",
     "status": "completed"
    },
    "tags": []
   },
   "outputs": [],
   "source": [
    "model = gensim.models.Word2Vec(\n",
    "    window=10,\n",
    "    min_count=2,\n",
    "    workers=4,\n",
    ")\n",
    "\n"
   ]
  },
  {
   "cell_type": "code",
   "execution_count": 9,
   "id": "357c30b1",
   "metadata": {
    "execution": {
     "iopub.execute_input": "2024-09-11T16:48:59.134964Z",
     "iopub.status.busy": "2024-09-11T16:48:59.134546Z",
     "iopub.status.idle": "2024-09-11T16:49:04.886218Z",
     "shell.execute_reply": "2024-09-11T16:49:04.884853Z"
    },
    "papermill": {
     "duration": 5.763447,
     "end_time": "2024-09-11T16:49:04.889723",
     "exception": false,
     "start_time": "2024-09-11T16:48:59.126276",
     "status": "completed"
    },
    "tags": []
   },
   "outputs": [],
   "source": [
    "model.build_vocab(review_text, progress_per=1000)"
   ]
  },
  {
   "cell_type": "code",
   "execution_count": 10,
   "id": "afa95acb",
   "metadata": {
    "execution": {
     "iopub.execute_input": "2024-09-11T16:49:04.908581Z",
     "iopub.status.busy": "2024-09-11T16:49:04.908026Z",
     "iopub.status.idle": "2024-09-11T16:50:23.377914Z",
     "shell.execute_reply": "2024-09-11T16:50:23.376790Z"
    },
    "papermill": {
     "duration": 78.489657,
     "end_time": "2024-09-11T16:50:23.387266",
     "exception": false,
     "start_time": "2024-09-11T16:49:04.897609",
     "status": "completed"
    },
    "tags": []
   },
   "outputs": [
    {
     "data": {
      "text/plain": [
       "(61503932, 83868975)"
      ]
     },
     "execution_count": 10,
     "metadata": {},
     "output_type": "execute_result"
    }
   ],
   "source": [
    "model.train(review_text, total_examples=model.corpus_count, epochs=model.epochs)"
   ]
  },
  {
   "cell_type": "code",
   "execution_count": 11,
   "id": "2cde8e17",
   "metadata": {
    "execution": {
     "iopub.execute_input": "2024-09-11T16:50:23.405032Z",
     "iopub.status.busy": "2024-09-11T16:50:23.404594Z",
     "iopub.status.idle": "2024-09-11T16:50:23.494483Z",
     "shell.execute_reply": "2024-09-11T16:50:23.493181Z"
    },
    "papermill": {
     "duration": 0.101667,
     "end_time": "2024-09-11T16:50:23.497673",
     "exception": false,
     "start_time": "2024-09-11T16:50:23.396006",
     "status": "completed"
    },
    "tags": []
   },
   "outputs": [],
   "source": [
    "model.save(\"./word2vec-amazon-cell-accessories-reviews-short.model\")"
   ]
  },
  {
   "cell_type": "code",
   "execution_count": 12,
   "id": "0775eee3",
   "metadata": {
    "execution": {
     "iopub.execute_input": "2024-09-11T16:50:23.514274Z",
     "iopub.status.busy": "2024-09-11T16:50:23.513837Z",
     "iopub.status.idle": "2024-09-11T16:50:23.538775Z",
     "shell.execute_reply": "2024-09-11T16:50:23.537040Z"
    },
    "papermill": {
     "duration": 0.038238,
     "end_time": "2024-09-11T16:50:23.543399",
     "exception": false,
     "start_time": "2024-09-11T16:50:23.505161",
     "status": "completed"
    },
    "tags": []
   },
   "outputs": [
    {
     "data": {
      "text/plain": [
       "[('terrible', 0.6646713614463806),\n",
       " ('shabby', 0.6156255006790161),\n",
       " ('horrible', 0.6109570264816284),\n",
       " ('good', 0.5620234608650208),\n",
       " ('awful', 0.5603129267692566),\n",
       " ('crappy', 0.5519921183586121),\n",
       " ('cheap', 0.5278361439704895),\n",
       " ('legit', 0.5256357789039612),\n",
       " ('disappointing', 0.5167853832244873),\n",
       " ('sad', 0.5086062550544739)]"
      ]
     },
     "execution_count": 12,
     "metadata": {},
     "output_type": "execute_result"
    }
   ],
   "source": [
    "model.wv.most_similar(\"bad\")"
   ]
  },
  {
   "cell_type": "code",
   "execution_count": 13,
   "id": "d362911a",
   "metadata": {
    "execution": {
     "iopub.execute_input": "2024-09-11T16:50:23.577638Z",
     "iopub.status.busy": "2024-09-11T16:50:23.576826Z",
     "iopub.status.idle": "2024-09-11T16:50:23.589127Z",
     "shell.execute_reply": "2024-09-11T16:50:23.587593Z"
    },
    "papermill": {
     "duration": 0.034172,
     "end_time": "2024-09-11T16:50:23.593674",
     "exception": false,
     "start_time": "2024-09-11T16:50:23.559502",
     "status": "completed"
    },
    "tags": []
   },
   "outputs": [
    {
     "data": {
      "text/plain": [
       "0.53911346"
      ]
     },
     "execution_count": 13,
     "metadata": {},
     "output_type": "execute_result"
    }
   ],
   "source": [
    "model.wv.similarity(w1=\"cheap\", w2=\"inexpensive\")"
   ]
  },
  {
   "cell_type": "code",
   "execution_count": 14,
   "id": "0e99a3d4",
   "metadata": {
    "execution": {
     "iopub.execute_input": "2024-09-11T16:50:23.627217Z",
     "iopub.status.busy": "2024-09-11T16:50:23.626456Z",
     "iopub.status.idle": "2024-09-11T16:50:23.639356Z",
     "shell.execute_reply": "2024-09-11T16:50:23.637674Z"
    },
    "papermill": {
     "duration": 0.034964,
     "end_time": "2024-09-11T16:50:23.643944",
     "exception": false,
     "start_time": "2024-09-11T16:50:23.608980",
     "status": "completed"
    },
    "tags": []
   },
   "outputs": [
    {
     "data": {
      "text/plain": [
       "0.78726614"
      ]
     },
     "execution_count": 14,
     "metadata": {},
     "output_type": "execute_result"
    }
   ],
   "source": [
    "model.wv.similarity(w1=\"great\", w2=\"good\")"
   ]
  },
  {
   "cell_type": "code",
   "execution_count": 15,
   "id": "eadc3a08",
   "metadata": {
    "_cell_guid": "b1076dfc-b9ad-4769-8c92-a6c4dae69d19",
    "_uuid": "8f2839f25d086af736a60e9eeb907d3b93b6e0e5",
    "execution": {
     "iopub.execute_input": "2024-09-11T16:50:23.664771Z",
     "iopub.status.busy": "2024-09-11T16:50:23.663937Z",
     "iopub.status.idle": "2024-09-11T16:50:23.677104Z",
     "shell.execute_reply": "2024-09-11T16:50:23.675786Z"
    },
    "papermill": {
     "duration": 0.025723,
     "end_time": "2024-09-11T16:50:23.679939",
     "exception": false,
     "start_time": "2024-09-11T16:50:23.654216",
     "status": "completed"
    },
    "tags": []
   },
   "outputs": [
    {
     "name": "stdout",
     "output_type": "stream",
     "text": [
      "/kaggle/input/cell-phones-andaccessories-5/Cell_Phones_and_Accessories_5.json\n"
     ]
    }
   ],
   "source": [
    "# This Python 3 environment comes with many helpful analytics libraries installed\n",
    "# It is defined by the kaggle/python Docker image: https://github.com/kaggle/docker-python\n",
    "# For example, here's several helpful packages to load\n",
    "\n",
    "import numpy as np # linear algebra\n",
    "import pandas as pd # data processing, CSV file I/O (e.g. pd.read_csv)\n",
    "\n",
    "# Input data files are available in the read-only \"../input/\" directory\n",
    "# For example, running this (by clicking run or pressing Shift+Enter) will list all files under the input directory\n",
    "\n",
    "import os\n",
    "for dirname, _, filenames in os.walk('/kaggle/input'):\n",
    "    for filename in filenames:\n",
    "        print(os.path.join(dirname, filename))\n",
    "\n",
    "# You can write up to 20GB to the current directory (/kaggle/working/) that gets preserved as output when you create a version using \"Save & Run All\" \n",
    "# You can also write temporary files to /kaggle/temp/, but they won't be saved outside of the current session"
   ]
  }
 ],
 "metadata": {
  "kaggle": {
   "accelerator": "none",
   "dataSources": [
    {
     "datasetId": 5681644,
     "sourceId": 9368706,
     "sourceType": "datasetVersion"
    }
   ],
   "dockerImageVersionId": 30761,
   "isGpuEnabled": false,
   "isInternetEnabled": true,
   "language": "python",
   "sourceType": "notebook"
  },
  "kernelspec": {
   "display_name": "Python 3",
   "language": "python",
   "name": "python3"
  },
  "language_info": {
   "codemirror_mode": {
    "name": "ipython",
    "version": 3
   },
   "file_extension": ".py",
   "mimetype": "text/x-python",
   "name": "python",
   "nbconvert_exporter": "python",
   "pygments_lexer": "ipython3",
   "version": "3.10.14"
  },
  "papermill": {
   "default_parameters": {},
   "duration": 156.671793,
   "end_time": "2024-09-11T16:50:25.816214",
   "environment_variables": {},
   "exception": null,
   "input_path": "__notebook__.ipynb",
   "output_path": "__notebook__.ipynb",
   "parameters": {},
   "start_time": "2024-09-11T16:47:49.144421",
   "version": "2.6.0"
  }
 },
 "nbformat": 4,
 "nbformat_minor": 5
}
